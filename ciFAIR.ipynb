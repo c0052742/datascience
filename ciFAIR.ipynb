import cifair
(X_train, y_train), (X_test, y_test) = cifair.load_cifair10()
